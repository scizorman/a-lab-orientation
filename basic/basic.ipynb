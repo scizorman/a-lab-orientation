{
 "cells": [
  {
   "cell_type": "markdown",
   "metadata": {},
   "source": [
    "# 基本課題"
   ]
  },
  {
   "cell_type": "markdown",
   "metadata": {},
   "source": [
    "#### 1. 任意の文字列 (xxx) を標準入力で受け取り，\"Hello, xxx!\" と出力せよ。"
   ]
  },
  {
   "cell_type": "code",
   "execution_count": 2,
   "metadata": {},
   "outputs": [
    {
     "name": "stdin",
     "output_type": "stream",
     "text": [
      "please input some word -> seki\n"
     ]
    },
    {
     "name": "stdout",
     "output_type": "stream",
     "text": [
      "Hello,seki!\n"
     ]
    }
   ],
   "source": [
    "word = input ('please input some word ->')\n",
    "print('Hello,{0}!'.format(word))"
   ]
  },
  {
   "cell_type": "markdown",
   "metadata": {},
   "source": [
    "#### 2. 任意の整数を標準入力で受け取り，\"100\" との和差積商を出力せよ。"
   ]
  },
  {
   "cell_type": "code",
   "execution_count": 9,
   "metadata": {},
   "outputs": [
    {
     "name": "stdin",
     "output_type": "stream",
     "text": [
      "任意の整数を入力してください　-> 34\n"
     ]
    },
    {
     "name": "stdout",
     "output_type": "stream",
     "text": [
      "x+y= 66.0\n",
      "x-y= 66.0\n",
      "x*y= 3400.0\n",
      "x/y= 2.9411764705882355\n"
     ]
    }
   ],
   "source": [
    "x = 100\n",
    "y = input('任意の整数を入力してください　->')\n",
    "print('x+y=', str(float(x)-float(y)))\n",
    "print('x-y=', str(float(x)-float(y)))\n",
    "print('x*y=', str(float(x)*float(y)))\n",
    "print('x/y=', str(float(x)/float(y)))"
   ]
  },
  {
   "cell_type": "markdown",
   "metadata": {},
   "source": [
    "#### 3. 1から50のリストを作って，その最大値，最小値，合計値，平均値を出力せよ。"
   ]
  },
  {
   "cell_type": "code",
   "execution_count": 11,
   "metadata": {},
   "outputs": [
    {
     "name": "stdout",
     "output_type": "stream",
     "text": [
      "<class 'list'>\n",
      "50\n",
      "1\n",
      "1275\n",
      "25.5\n"
     ]
    }
   ],
   "source": [
    "a = list(range(1,51))\n",
    "print(type(a))\n",
    "print(max(a))\n",
    "print(min(a))\n",
    "print(sum(a))\n",
    "print(sum(a)/len(a))"
   ]
  },
  {
   "cell_type": "markdown",
   "metadata": {},
   "source": [
    "#### 4. 3. で作ったリストに 51から100のリストを追加せよ。また，そのリストから30から70までの偶数要素のみを出力せよ。"
   ]
  },
  {
   "cell_type": "code",
   "execution_count": 7,
   "metadata": {},
   "outputs": [
    {
     "name": "stdout",
     "output_type": "stream",
     "text": [
      "<class 'list'>\n",
      "100\n",
      "1\n",
      "5050\n",
      "50.5\n",
      "偶数 30\n",
      "偶数 32\n",
      "偶数 34\n",
      "偶数 36\n",
      "偶数 38\n",
      "偶数 40\n",
      "偶数 42\n",
      "偶数 44\n",
      "偶数 46\n",
      "偶数 48\n",
      "偶数 50\n",
      "偶数 52\n",
      "偶数 54\n",
      "偶数 56\n",
      "偶数 58\n",
      "偶数 60\n",
      "偶数 62\n",
      "偶数 64\n",
      "偶数 66\n",
      "偶数 68\n",
      "偶数 70\n"
     ]
    }
   ],
   "source": [
    "a = list(range(1,51))\n",
    "b = list(range(51,101))\n",
    "c = a+b\n",
    "print(type(c))\n",
    "print(max(c))\n",
    "print(min(c))\n",
    "print(sum(c))\n",
    "print(sum(c)/len(c))\n",
    "for num in c:\n",
    "    if num % 2 ==0 and num >29 and num < 71:\n",
    "        print(\"偶数\",num)"
   ]
  },
  {
   "cell_type": "markdown",
   "metadata": {},
   "source": [
    "#### 5. 講習参加者の姓を key, 学年を value とする辞書を作り，全要素を for 文を用いて出力せよ。"
   ]
  },
  {
   "cell_type": "code",
   "execution_count": 9,
   "metadata": {},
   "outputs": [
    {
     "name": "stdout",
     "output_type": "stream",
     "text": [
      "seki B4\n",
      "matsuda B4\n",
      "matsue B4\n",
      "yamada B4\n",
      "hagimoto B4\n"
     ]
    }
   ],
   "source": [
    "dic = {'seki':'B4','matsuda':'B4','matsue':'B4','yamada':'B4','hagimoto':'B4'} \n",
    "for k, v in dic.items():\n",
    "    print(k, v)"
   ]
  },
  {
   "cell_type": "markdown",
   "metadata": {},
   "source": [
    "#### 6. 1から100の範囲で，3で割り切れる場合は\"Fizz\"，5で割り切れる場合は\"Buzz\"，そのどちらでも割り切れる場合は\"FizzBuzz\"，いずれでもない場合はそのまま数字を出力せよ。\n",
    "##### 出力例\n",
    "```bash\n",
    "1, 2, \"Fizz\", 4, \"Buzz\", \"Fizz\", ..., 14, \"FizzBuzz\", 16, ...\n",
    "```"
   ]
  },
  {
   "cell_type": "code",
   "execution_count": 16,
   "metadata": {},
   "outputs": [
    {
     "name": "stdout",
     "output_type": "stream",
     "text": [
      "1\n",
      "2\n",
      "Fizz\n",
      "4\n",
      "Buzz\n",
      "Fizz\n",
      "7\n",
      "8\n",
      "Fizz\n",
      "Buzz\n",
      "11\n",
      "Fizz\n",
      "13\n",
      "14\n",
      "FizzBuzz\n",
      "16\n",
      "17\n",
      "Fizz\n",
      "19\n",
      "Buzz\n",
      "Fizz\n",
      "22\n",
      "23\n",
      "Fizz\n",
      "Buzz\n",
      "26\n",
      "Fizz\n",
      "28\n",
      "29\n",
      "FizzBuzz\n",
      "31\n",
      "32\n",
      "Fizz\n",
      "34\n",
      "Buzz\n",
      "Fizz\n",
      "37\n",
      "38\n",
      "Fizz\n",
      "Buzz\n",
      "41\n",
      "Fizz\n",
      "43\n",
      "44\n",
      "FizzBuzz\n",
      "46\n",
      "47\n",
      "Fizz\n",
      "49\n",
      "Buzz\n",
      "Fizz\n",
      "52\n",
      "53\n",
      "Fizz\n",
      "Buzz\n",
      "56\n",
      "Fizz\n",
      "58\n",
      "59\n",
      "FizzBuzz\n",
      "61\n",
      "62\n",
      "Fizz\n",
      "64\n",
      "Buzz\n",
      "Fizz\n",
      "67\n",
      "68\n",
      "Fizz\n",
      "Buzz\n",
      "71\n",
      "Fizz\n",
      "73\n",
      "74\n",
      "FizzBuzz\n",
      "76\n",
      "77\n",
      "Fizz\n",
      "79\n",
      "Buzz\n",
      "Fizz\n",
      "82\n",
      "83\n",
      "Fizz\n",
      "Buzz\n",
      "86\n",
      "Fizz\n",
      "88\n",
      "89\n",
      "FizzBuzz\n",
      "91\n",
      "92\n",
      "Fizz\n",
      "94\n",
      "Buzz\n",
      "Fizz\n",
      "97\n",
      "98\n",
      "Fizz\n",
      "Buzz\n"
     ]
    }
   ],
   "source": [
    "g = list(range(1,101))\n",
    "for f in g:\n",
    "    if f % 3 ==0 and f % 5 ==0:\n",
    "        print(\"FizzBuzz\")\n",
    "    elif f % 3 ==0:\n",
    "            print(\"Fizz\")\n",
    "    elif f % 5 ==0:\n",
    "                print(\"Buzz\")\n",
    "    else:\n",
    "        print(f)"
   ]
  },
  {
   "cell_type": "markdown",
   "metadata": {},
   "source": [
    "#### 7.　2つの自然数の最大公約数を求める関数を実装せよ。"
   ]
  },
  {
   "cell_type": "code",
   "execution_count": 9,
   "metadata": {},
   "outputs": [
    {
     "name": "stdout",
     "output_type": "stream",
     "text": [
      "6\n"
     ]
    }
   ],
   "source": [
    "def gcd(h,i):\n",
    "    if i ==0:\n",
    "        return h\n",
    "    else:\n",
    "        return gcd(i, h % i)\n",
    "print(gcd(18,120))"
   ]
  },
  {
   "cell_type": "markdown",
   "metadata": {},
   "source": [
    "#### 8. `address-tab.txt`を読み込み，先頭から５行のみを出力せよ。また，タブをスペースに変換した結果を `address-space.txt` に書き込め。"
   ]
  },
  {
   "cell_type": "code",
   "execution_count": 5,
   "metadata": {},
   "outputs": [
    {
     "name": "stdout",
     "output_type": "stream",
     "text": [
      "愛知県名古屋市守山区\t桔梗平\n",
      "\n",
      "富山県砺波市\t大窪\n",
      "\n",
      "島根県邑智郡美郷町\t久保\n",
      "\n",
      "愛知県稲沢市\t横地\n",
      "\n",
      "宮城県栗原市\t高清水下折木\n",
      "\n"
     ]
    },
    {
     "data": {
      "text/plain": [
       "'愛知県名古屋市守山区 桔梗平\\n富山県砺波市 大窪\\n島根県邑智郡美郷町 久保\\n愛知県稲沢市 横地\\n宮城県栗原市 高清水下折木\\n'"
      ]
     },
     "execution_count": 5,
     "metadata": {},
     "output_type": "execute_result"
    }
   ],
   "source": [
    "address_list=[]\n",
    "with open(\"address-tab.txt\",\"r\") as f:\n",
    "    for i in range(5):\n",
    "        line = f.readline()\n",
    "        print(line)\n",
    "        address_list.append(line)\n",
    "mojiretu = \"\".join(address_list)\n",
    "with open(\"address-space.txt\", \"w\") as f:\n",
    "    f.write(mojiretu.expandtabs(1))\n",
    "    \n",
    "with open(\"address-space.txt\",\"r\") as file:\n",
    "    k = file.read()\n",
    "    \n",
    "k"
   ]
  },
  {
   "cell_type": "markdown",
   "metadata": {},
   "source": [
    "#### 9. モンテカルロ法 (10,000点) を用いて円周率の近似値を求めよ。なお `NumPy` を用いること。\n",
    "\n",
    "> 参考：[NumPy 公式サイト](https://docs.scipy.org/doc/numpy/)"
   ]
  },
  {
   "cell_type": "code",
   "execution_count": 6,
   "metadata": {},
   "outputs": [
    {
     "name": "stdout",
     "output_type": "stream",
     "text": [
      "IN: 7852 \n",
      "OUT: 2148 \n",
      "ALL: 10000 \n",
      "Pi: 3.1408 \n"
     ]
    }
   ],
   "source": [
    "import math\n",
    "import numpy as np\n",
    "from numpy import random\n",
    "\n",
    "N_in = 0\n",
    "N_out = 0\n",
    "N = 10000 #試行回数\n",
    "ran_x = random.rand(N) #Xの乱数\n",
    "ran_y = random.rand(N) #Yの乱数\n",
    "ran_point = np.hypot(ran_x,ran_y) #X^2 + Y^2の平方根   \n",
    "\n",
    "for i in ran_point:\n",
    "    if i <= 1:\n",
    "        N_in += 1\n",
    "    else:\n",
    "        N_out += 1\n",
    "\n",
    "Pie = N_in/N*4 #パイの近似式\n",
    "\n",
    "print(\"IN: {} \".format(N_in))\n",
    "print(\"OUT: {} \".format(N_out))\n",
    "print(\"ALL: {} \".format(N))\n",
    "\n",
    "print(\"Pi: {} \".format(Pie))"
   ]
  },
  {
   "cell_type": "markdown",
   "metadata": {},
   "source": [
    "#### 10. 以下のセルを実行して得られるデータ **(freq, spec)** を `Matplotlib` を用いて描画せよ。なお，タイトル，ラベル，凡例もつけること。\n",
    "\n",
    "> 参考：[Matplotlib 公式サイト](https://matplotlib.org/)"
   ]
  },
  {
   "cell_type": "code",
   "execution_count": 3,
   "metadata": {},
   "outputs": [],
   "source": [
    "import numpy as np\n",
    "\n",
    "SAMP_NUM = 256\n",
    "SAMP_INT = 0.01\n",
    "\n",
    "f1, f2 = 10, 20\n",
    "t = np.arange(0, SAMP_NUM * SAMP_INT, SAMP_INT)\n",
    "signal = np.sin(2*np.pi*f1*t) + np.sin(2*np.pi*f2*t) + np.random.randn(SAMP_NUM)\n",
    "\n",
    "freq = np.linspace(0, 1.0/SAMP_INT, SAMP_NUM)\n",
    "spec = np.abs(np.fft.fft(signal))"
   ]
  },
  {
   "cell_type": "code",
   "execution_count": 7,
   "metadata": {},
   "outputs": [
    {
     "data": {
      "image/png": "[encoded data removed]",
      "text/plain": [
       "<Figure size 432x288 with 1 Axes>"
      ]
     },
     "metadata": {
      "needs_background": "light"
     },
     "output_type": "display_data"
    }
   ],
   "source": [
    "from matplotlib import pyplot\n",
    "pyplot.plot(freq, spec, label='data1')\n",
    "\n",
    "pyplot.title('Homework 1')\n",
    "\n",
    "pyplot.xlabel('X-Axis')\n",
    "pyplot.ylabel('Y-Axis')\n",
    "\n",
    "pyplot.legend()\n",
    " \n",
    "pyplot.show()"
   ]
  },
  {
   "cell_type": "markdown",
   "metadata": {},
   "source": [
    "#### Bonus : 10. と同様のグラフを `Bokeh` を用いて描画せよ。（Note: `Bokeh` はインストールされてない。）\n",
    "> 参考：[Bokeh 公式サイト](https://bokeh.pydata.org/en/latest/)"
   ]
  },
  {
   "cell_type": "code",
   "execution_count": null,
   "metadata": {},
   "outputs": [],
   "source": []
  }
 ],
 "metadata": {
  "kernelspec": {
   "display_name": "Python 3",
   "language": "python",
   "name": "python3"
  },
  "language_info": {
   "codemirror_mode": {
    "name": "ipython",
    "version": 3
   },
   "file_extension": ".py",
   "mimetype": "text/x-python",
   "name": "python",
   "nbconvert_exporter": "python",
   "pygments_lexer": "ipython3",
   "version": "3.7.2"
  }
 },
 "nbformat": 4,
 "nbformat_minor": 2
}
